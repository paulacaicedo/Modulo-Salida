{
  "nbformat": 4,
  "nbformat_minor": 0,
  "metadata": {
    "colab": {
      "provenance": [],
      "collapsed_sections": []
    },
    "kernelspec": {
      "name": "python3",
      "display_name": "Python 3"
    },
    "language_info": {
      "name": "python"
    }
  },
  "cells": [
    {
      "cell_type": "markdown",
      "source": [
        "**EMPEZAR A TRABAJAR PARA EL PARCIAL**\n"
      ],
      "metadata": {
        "id": "S5kfFwH0wLFg"
      }
    },
    {
      "cell_type": "code",
      "source": [
        "from google.colab import drive\n",
        "drive.mount('/content/drive')"
      ],
      "metadata": {
        "colab": {
          "base_uri": "https://localhost:8080/"
        },
        "id": "88vW61jB17g-",
        "outputId": "c9747c42-350f-4876-9ee1-0649af8bd966"
      },
      "execution_count": null,
      "outputs": [
        {
          "output_type": "stream",
          "name": "stdout",
          "text": [
            "Mounted at /content/drive\n"
          ]
        }
      ]
    },
    {
      "cell_type": "code",
      "execution_count": 2,
      "metadata": {
        "colab": {
          "base_uri": "https://localhost:8080/"
        },
        "id": "xFQMTwq0wIx0",
        "outputId": "039e8848-e54d-488b-e013-e251d949f479"
      },
      "outputs": [
        {
          "output_type": "stream",
          "name": "stdout",
          "text": [
            "Looking in indexes: https://pypi.org/simple, https://us-python.pkg.dev/colab-wheels/public/simple/\n",
            "Collecting wfdb\n",
            "  Downloading wfdb-4.0.0-py3-none-any.whl (161 kB)\n",
            "\u001b[K     |████████████████████████████████| 161 kB 34.4 MB/s \n",
            "\u001b[?25hRequirement already satisfied: scipy<2.0.0,>=1.0.0 in /usr/local/lib/python3.7/dist-packages (from wfdb) (1.7.3)\n",
            "Requirement already satisfied: SoundFile<0.12.0,>=0.10.0 in /usr/local/lib/python3.7/dist-packages (from wfdb) (0.11.0)\n",
            "Requirement already satisfied: pandas<2.0.0,>=1.0.0 in /usr/local/lib/python3.7/dist-packages (from wfdb) (1.3.5)\n",
            "Requirement already satisfied: numpy<2.0.0,>=1.10.1 in /usr/local/lib/python3.7/dist-packages (from wfdb) (1.21.6)\n",
            "Requirement already satisfied: matplotlib<4.0.0,>=3.2.2 in /usr/local/lib/python3.7/dist-packages (from wfdb) (3.2.2)\n",
            "Requirement already satisfied: requests<3.0.0,>=2.8.1 in /usr/local/lib/python3.7/dist-packages (from wfdb) (2.23.0)\n",
            "Requirement already satisfied: pyparsing!=2.0.4,!=2.1.2,!=2.1.6,>=2.0.1 in /usr/local/lib/python3.7/dist-packages (from matplotlib<4.0.0,>=3.2.2->wfdb) (3.0.9)\n",
            "Requirement already satisfied: cycler>=0.10 in /usr/local/lib/python3.7/dist-packages (from matplotlib<4.0.0,>=3.2.2->wfdb) (0.11.0)\n",
            "Requirement already satisfied: kiwisolver>=1.0.1 in /usr/local/lib/python3.7/dist-packages (from matplotlib<4.0.0,>=3.2.2->wfdb) (1.4.4)\n",
            "Requirement already satisfied: python-dateutil>=2.1 in /usr/local/lib/python3.7/dist-packages (from matplotlib<4.0.0,>=3.2.2->wfdb) (2.8.2)\n",
            "Requirement already satisfied: typing-extensions in /usr/local/lib/python3.7/dist-packages (from kiwisolver>=1.0.1->matplotlib<4.0.0,>=3.2.2->wfdb) (4.1.1)\n",
            "Requirement already satisfied: pytz>=2017.3 in /usr/local/lib/python3.7/dist-packages (from pandas<2.0.0,>=1.0.0->wfdb) (2022.4)\n",
            "Requirement already satisfied: six>=1.5 in /usr/local/lib/python3.7/dist-packages (from python-dateutil>=2.1->matplotlib<4.0.0,>=3.2.2->wfdb) (1.15.0)\n",
            "Requirement already satisfied: certifi>=2017.4.17 in /usr/local/lib/python3.7/dist-packages (from requests<3.0.0,>=2.8.1->wfdb) (2022.9.24)\n",
            "Requirement already satisfied: chardet<4,>=3.0.2 in /usr/local/lib/python3.7/dist-packages (from requests<3.0.0,>=2.8.1->wfdb) (3.0.4)\n",
            "Requirement already satisfied: urllib3!=1.25.0,!=1.25.1,<1.26,>=1.21.1 in /usr/local/lib/python3.7/dist-packages (from requests<3.0.0,>=2.8.1->wfdb) (1.24.3)\n",
            "Requirement already satisfied: idna<3,>=2.5 in /usr/local/lib/python3.7/dist-packages (from requests<3.0.0,>=2.8.1->wfdb) (2.10)\n",
            "Requirement already satisfied: cffi>=1.0 in /usr/local/lib/python3.7/dist-packages (from SoundFile<0.12.0,>=0.10.0->wfdb) (1.15.1)\n",
            "Requirement already satisfied: pycparser in /usr/local/lib/python3.7/dist-packages (from cffi>=1.0->SoundFile<0.12.0,>=0.10.0->wfdb) (2.21)\n",
            "Installing collected packages: wfdb\n",
            "Successfully installed wfdb-4.0.0\n"
          ]
        }
      ],
      "source": [
        "pip install wfdb"
      ]
    },
    {
      "cell_type": "markdown",
      "source": [
        "Una base de datos que tiene dos categoria: \n",
        "1. El Evento de interes\n",
        "2. El Evento de no interes \n",
        " \n",
        "\n"
      ],
      "metadata": {
        "id": "orZ02RBQxEG3"
      }
    },
    {
      "cell_type": "code",
      "source": [
        "import wfdb\n",
        "import numpy as np"
      ],
      "metadata": {
        "id": "D_WkBERT_8pm"
      },
      "execution_count": 3,
      "outputs": []
    },
    {
      "cell_type": "code",
      "source": [
        "pepito = wfdb.rdrecord(\"database/103\")\n",
        "print(pepito)\n",
        "print(pepito.p_signal) #Vector de los datos\n",
        "\n",
        "wfdb.plot_wfdb(pepito)"
      ],
      "metadata": {
        "colab": {
          "base_uri": "https://localhost:8080/",
          "height": 434
        },
        "id": "dfNdGsgSwSEo",
        "outputId": "89b4ea12-c22c-44eb-ffac-58e42435db7f"
      },
      "execution_count": 4,
      "outputs": [
        {
          "output_type": "stream",
          "name": "stdout",
          "text": [
            "<wfdb.io.record.Record object at 0x7f35a8646b90>\n",
            "[[-0.375  0.05 ]\n",
            " [-0.375  0.05 ]\n",
            " [-0.375  0.05 ]\n",
            " ...\n",
            " [-0.235  0.05 ]\n",
            " [-0.245  0.055]\n",
            " [ 0.     0.   ]]\n"
          ]
        },
        {
          "output_type": "display_data",
          "data": {
            "text/plain": [
              "<Figure size 432x288 with 2 Axes>"
            ],
            "image/png": "[encoded data removed]"
          },
          "metadata": {
            "needs_background": "light"
          }
        }
      ]
    },
    {
      "cell_type": "code",
      "source": [
        "signals = pepito.p_signal\n",
        "#print(signals)\n",
        "#len(signals)\n",
        "#Se tiene 18 seg y 650000 datos, entonces se tiene 361 muestras aprox. por cada segundo\n",
        "#Los datos contienen eventos de no interes que son las anotaciones\n",
        "anotaciones = wfdb.rdann('database/103','atr').sample  #la muestra en donde esta latido\n",
        "#print(anotaciones)\n",
        "#print(len(anotaciones)) #cantidad total de latidos\n",
        "#print(signals[21,1])\n",
        "#Abrir una ventana e ingresar en la cateogia del evento de interes en el database\n",
        "\n",
        "#las anotaciones son latidos\n",
        "signals1 = signals[:,0]\n",
        "Vobser = signals1[anotaciones[1]-70: anotaciones[1]+70]\n",
        "print(Vobser)\n",
        "#latidos que tienen rango hasta las 140 muestras, ese es un N cualquiera, minimo 50 muestras\n",
        "#Se guarda en la database los eventos de interes de lo que se reconoce como latido\n",
        "#Se gurda  en la databse los eventod de no interes"
      ],
      "metadata": {
        "colab": {
          "base_uri": "https://localhost:8080/"
        },
        "id": "JdUfnlWe053C",
        "outputId": "e3469258-7993-40fe-c701-a1739e40da34"
      },
      "execution_count": 5,
      "outputs": [
        {
          "output_type": "stream",
          "name": "stdout",
          "text": [
            "[-0.235 -0.245 -0.24  -0.235 -0.215 -0.215 -0.215 -0.23  -0.22  -0.21\n",
            " -0.205 -0.215 -0.215 -0.245 -0.255 -0.25  -0.26  -0.27  -0.27  -0.27\n",
            " -0.255 -0.25  -0.255 -0.26  -0.295 -0.315 -0.32  -0.325 -0.33  -0.34\n",
            " -0.355 -0.38  -0.385 -0.38  -0.38  -0.395 -0.41  -0.405 -0.41  -0.405\n",
            " -0.4   -0.39  -0.405 -0.42  -0.41  -0.4   -0.4   -0.395 -0.405 -0.41\n",
            " -0.405 -0.4   -0.405 -0.405 -0.42  -0.445 -0.475 -0.54  -0.58  -0.59\n",
            " -0.55  -0.485 -0.39  -0.21   0.09   0.47   0.85   1.19   1.51   1.75\n",
            "  1.85   1.8    1.585  1.14   0.62   0.13  -0.235 -0.44  -0.52  -0.525\n",
            " -0.485 -0.405 -0.33  -0.295 -0.32  -0.36  -0.375 -0.375 -0.38  -0.38\n",
            " -0.395 -0.42  -0.43  -0.435 -0.43  -0.435 -0.45  -0.465 -0.46  -0.45\n",
            " -0.445 -0.46  -0.465 -0.485 -0.47  -0.455 -0.465 -0.46  -0.47  -0.475\n",
            " -0.465 -0.475 -0.475 -0.47  -0.465 -0.485 -0.47  -0.46  -0.455 -0.44\n",
            " -0.46  -0.47  -0.45  -0.43  -0.435 -0.435 -0.435 -0.44  -0.425 -0.41\n",
            " -0.395 -0.39  -0.4   -0.4   -0.39  -0.37  -0.345 -0.34  -0.34  -0.345]\n"
          ]
        }
      ]
    },
    {
      "cell_type": "markdown",
      "source": [
        "%Solapamiento - Ventana Deslizante"
      ],
      "metadata": {
        "id": "HsjWp7_t5oyk"
      }
    },
    {
      "cell_type": "code",
      "source": [
        "\n",
        "inicio = 0\n",
        "final = 15\n",
        "\n",
        "signals1=signals[:,0]\n",
        "#print(len(signals1))\n",
        "\n",
        "medias = []\n",
        "des = []\n",
        "\n",
        "while(final != (len(signals)+7)):\n",
        "\n",
        "  temp = signals1[inicio:final]\n",
        "\n",
        "  if inicio==0:\n",
        "      for i in range(0,15):\n",
        "        medias.append(np.mean(temp))\n",
        "        des.append(np.std(temp))\n",
        "  else:\n",
        "      for i in range(0,7):\n",
        "        medias.append(np.mean(temp))\n",
        "        des.append(np.std(temp))\n",
        "\n",
        "  \n",
        "\n",
        "  inicio+=7\n",
        "  final +=7\n",
        "\n",
        "print(len(medias))"
      ],
      "metadata": {
        "colab": {
          "base_uri": "https://localhost:8080/"
        },
        "id": "zN8C3wZSDBra",
        "outputId": "4bb6b437-67de-4b86-d7f1-8b99ad038fd9"
      },
      "execution_count": 17,
      "outputs": [
        {
          "output_type": "stream",
          "name": "stdout",
          "text": [
            "650000\n"
          ]
        }
      ]
    },
    {
      "cell_type": "code",
      "source": [
        "import matplotlib.pyplot as plt\n",
        "plt.plot(medias[:1000])\n",
        "plt.plot(des[:1000])"
      ],
      "metadata": {
        "colab": {
          "base_uri": "https://localhost:8080/",
          "height": 283
        },
        "id": "HcScQKp0ITAK",
        "outputId": "60847855-a639-4c9d-c1f4-c946d03702e1"
      },
      "execution_count": 19,
      "outputs": [
        {
          "output_type": "execute_result",
          "data": {
            "text/plain": [
              "[<matplotlib.lines.Line2D at 0x7f359b923490>]"
            ]
          },
          "metadata": {},
          "execution_count": 19
        },
        {
          "output_type": "display_data",
          "data": {
            "text/plain": [
              "<Figure size 432x288 with 1 Axes>"
            ],
            "image/png": "[encoded data removed]"
          },
          "metadata": {
            "needs_background": "light"
          }
        }
      ]
    }
  ]
}